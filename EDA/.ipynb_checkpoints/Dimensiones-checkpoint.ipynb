{
 "cells": [
  {
   "cell_type": "code",
   "execution_count": null,
   "id": "30fb16aa",
   "metadata": {},
   "outputs": [],
   "source": [
    "import pandas as pd\n",
    "import numpy as np\n",
    "import pickle"
   ]
  },
  {
   "cell_type": "code",
   "execution_count": null,
   "id": "d5a787f5",
   "metadata": {},
   "outputs": [],
   "source": [
    "basepath = \"/media/jonathan/JHON/Tesis/DatosTesis/CSV_Filtrado_Origen/DataFiltradoJunio2020_2.csv\"\n",
    "data = pd.read_csv(basepath, sep=',',dtype={\"fecha\": str,\n",
    "                                        \"origen\": str,\n",
    "                                        \"destino\": str})          \n",
    "\n",
    "\n",
    "basepath = \"/media/jonathan/JHON/Tesis/DatosTesis/CSV_Filtrado_Origen/DataFiltradoJulio2020_2.csv\"\n",
    "data2 = pd.read_csv(basepath, sep=',',dtype={\"fecha\": str,\n",
    "                                        \"origen\": str,\n",
    "                                        \"destino\": str})          \n"
   ]
  },
  {
   "cell_type": "code",
   "execution_count": null,
   "id": "e5776f21",
   "metadata": {},
   "outputs": [],
   "source": [
    "print(data.shape)\n",
    "print(data2.shape)"
   ]
  }
 ],
 "metadata": {
  "kernelspec": {
   "display_name": "Python 3 (ipykernel)",
   "language": "python",
   "name": "python3"
  },
  "language_info": {
   "codemirror_mode": {
    "name": "ipython",
    "version": 3
   },
   "file_extension": ".py",
   "mimetype": "text/x-python",
   "name": "python",
   "nbconvert_exporter": "python",
   "pygments_lexer": "ipython3",
   "version": "3.9.7"
  }
 },
 "nbformat": 4,
 "nbformat_minor": 5
}
